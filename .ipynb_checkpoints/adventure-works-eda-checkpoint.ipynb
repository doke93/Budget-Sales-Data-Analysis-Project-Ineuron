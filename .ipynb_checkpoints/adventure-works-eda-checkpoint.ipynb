{
 "cells": [
  {
   "cell_type": "markdown",
   "metadata": {},
   "source": [
    "# adventure-works-eda\n",
    "\n",
    "Use the \"Run\" button to execute the code."
   ]
  },
  {
   "cell_type": "code",
   "execution_count": 1,
   "metadata": {},
   "outputs": [],
   "source": [
    "!pip install jovian --upgrade --quiet"
   ]
  },
  {
   "cell_type": "code",
   "execution_count": 2,
   "metadata": {},
   "outputs": [],
   "source": [
    "import jovian"
   ]
  },
  {
   "cell_type": "code",
   "execution_count": 3,
   "metadata": {},
   "outputs": [
    {
     "data": {
      "application/javascript": [
       "window.require && require([\"base/js/namespace\"],function(Jupyter){Jupyter.notebook.save_checkpoint()})"
      ],
      "text/plain": [
       "<IPython.core.display.Javascript object>"
      ]
     },
     "metadata": {},
     "output_type": "display_data"
    },
    {
     "name": "stdout",
     "output_type": "stream",
     "text": [
      "[jovian] Updating notebook \"dokeabhishek3/adventure-works-eda\" on https://jovian.ai\u001b[0m\n",
      "[jovian] Committed successfully! https://jovian.ai/dokeabhishek3/adventure-works-eda\u001b[0m\n"
     ]
    },
    {
     "data": {
      "text/plain": [
       "'https://jovian.ai/dokeabhishek3/adventure-works-eda'"
      ]
     },
     "execution_count": 3,
     "metadata": {},
     "output_type": "execute_result"
    }
   ],
   "source": [
    "# Execute this to save new versions of the notebook\n",
    "jovian.commit(project=\"adventure-works-eda\")"
   ]
  },
  {
   "cell_type": "code",
   "execution_count": 4,
   "metadata": {},
   "outputs": [
    {
     "name": "stdout",
     "output_type": "stream",
     "text": [
      "Collecting openpyxl\n",
      "  Downloading openpyxl-3.0.10-py2.py3-none-any.whl (242 kB)\n",
      "\u001b[K     |████████████████████████████████| 242 kB 6.9 MB/s eta 0:00:01\n",
      "\u001b[?25hCollecting et-xmlfile\n",
      "  Downloading et_xmlfile-1.1.0-py3-none-any.whl (4.7 kB)\n",
      "Installing collected packages: et-xmlfile, openpyxl\n",
      "Successfully installed et-xmlfile-1.1.0 openpyxl-3.0.10\n",
      "Note: you may need to restart the kernel to use updated packages.\n"
     ]
    }
   ],
   "source": [
    "pip install openpyxl"
   ]
  },
  {
   "cell_type": "code",
   "execution_count": 5,
   "metadata": {},
   "outputs": [],
   "source": [
    "# Import Libraries\n",
    "import pandas as pd\n",
    "import numpy as np\n",
    "import matplotlib.pyplot as plt\n",
    "import seaborn as sns"
   ]
  },
  {
   "cell_type": "code",
   "execution_count": 8,
   "metadata": {},
   "outputs": [],
   "source": [
    "raw_data = pd.ExcelFile('https://github.com/doke93/Data-Analysis-Project-Ineuron/files/8985052/Database.xlsx')"
   ]
  },
  {
   "cell_type": "code",
   "execution_count": 13,
   "metadata": {},
   "outputs": [],
   "source": [
    "sheets = raw_data.sheet_names"
   ]
  },
  {
   "cell_type": "code",
   "execution_count": 19,
   "metadata": {},
   "outputs": [
    {
     "name": "stdout",
     "output_type": "stream",
     "text": [
      "Calender\n",
      "Customers\n",
      "Product\n",
      "Sales\n",
      "Territory\n"
     ]
    }
   ],
   "source": [
    "raw_data_dict = {}\n",
    "for i in sheets:\n",
    "    raw_data_dict[i] = raw_data.parse(i)\n",
    "    print(f'{i} Sheet, Saved into dictionary')"
   ]
  },
  {
   "cell_type": "markdown",
   "metadata": {},
   "source": [
    "# Data Cleaning"
   ]
  },
  {
   "cell_type": "code",
   "execution_count": 24,
   "metadata": {},
   "outputs": [
    {
     "data": {
      "text/plain": [
       "CustomerKey               0\n",
       "FirstName                 0\n",
       "LastName                  0\n",
       "FullName                  0\n",
       "BirthDate                 0\n",
       "MaritalStatus             0\n",
       "Gender                    0\n",
       "YearlyIncome              0\n",
       "TotalChildren             0\n",
       "NumberChildrenAtHome      0\n",
       "Education                 0\n",
       "Occupation                0\n",
       "HouseOwnerFlag            0\n",
       "NumberCarsOwned           0\n",
       "AddressLine1              0\n",
       "DateFirstPurchase       566\n",
       "CommuteDistance           0\n",
       "dtype: int64"
      ]
     },
     "execution_count": 24,
     "metadata": {},
     "output_type": "execute_result"
    }
   ],
   "source": [
    "raw_data_dict['Customers'].isnull().sum()"
   ]
  },
  {
   "cell_type": "code",
   "execution_count": 25,
   "metadata": {},
   "outputs": [],
   "source": [
    "raw_data_dict['Customers'].dropna(inplace=True)"
   ]
  },
  {
   "cell_type": "code",
   "execution_count": 26,
   "metadata": {},
   "outputs": [
    {
     "data": {
      "text/plain": [
       "0"
      ]
     },
     "execution_count": 26,
     "metadata": {},
     "output_type": "execute_result"
    }
   ],
   "source": [
    "raw_data_dict['Customers'].isnull().sum().sum()"
   ]
  },
  {
   "cell_type": "markdown",
   "metadata": {},
   "source": [
    "# Check Column names "
   ]
  },
  {
   "cell_type": "code",
   "execution_count": 33,
   "metadata": {},
   "outputs": [
    {
     "name": "stdout",
     "output_type": "stream",
     "text": [
      "Calender:  Index(['Date', 'DateKey', 'Year', 'Quarter', 'MonthNum', 'Month', 'FiscalYear',\n",
      "       'FiscalQuarter', 'FiscalMonthNum', 'FiscalMonth', 'MonthYear',\n",
      "       'MonthYearLong', 'MonthYearNum', 'WeekdayNum', 'Weekday',\n",
      "       'WeekdayWeekend'],\n",
      "      dtype='object')\n",
      "Customers:  Index(['CustomerKey', 'FirstName', 'LastName', 'FullName', 'BirthDate',\n",
      "       'MaritalStatus', 'Gender', 'YearlyIncome', 'TotalChildren',\n",
      "       'NumberChildrenAtHome', 'Education', 'Occupation', 'HouseOwnerFlag',\n",
      "       'NumberCarsOwned', 'AddressLine1', 'DateFirstPurchase',\n",
      "       'CommuteDistance'],\n",
      "      dtype='object')\n",
      "Product:  Index(['ProductKey', 'ProductName', 'SubCategory', 'Category', 'StandardCost',\n",
      "       'Color', 'ListPrice', 'DaysToManufacture', 'ProductLine', 'ModelName',\n",
      "       'Photo', 'ProductDescription', 'StartDate'],\n",
      "      dtype='object')\n",
      "Sales:  Index(['ProductKey', 'OrderDate', 'ShipDate', 'CustomerKey', 'PromotionKey',\n",
      "       'SalesTerritoryKey', 'SalesOrderNumber', 'SalesOrderLineNumber',\n",
      "       'OrderQuantity', 'UnitPrice', 'TotalProductCost', 'SalesAmount',\n",
      "       'TaxAmt'],\n",
      "      dtype='object')\n",
      "Territory:  Index(['SalesTerritoryKey', 'Region', 'Country', 'Group', 'RegionImage'], dtype='object')\n"
     ]
    }
   ],
   "source": [
    "for i in raw_data_dict:\n",
    "    print(f'{i}: ',raw_data_dict[i].columns)"
   ]
  },
  {
   "cell_type": "markdown",
   "metadata": {},
   "source": [
    "# Merge data "
   ]
  },
  {
   "cell_type": "code",
   "execution_count": 65,
   "metadata": {},
   "outputs": [
    {
     "data": {
      "application/javascript": [
       "window.require && require([\"base/js/namespace\"],function(Jupyter){Jupyter.notebook.save_checkpoint()})"
      ],
      "text/plain": [
       "<IPython.core.display.Javascript object>"
      ]
     },
     "metadata": {},
     "output_type": "display_data"
    },
    {
     "data": {
      "application/javascript": [
       "if (window.IPython && IPython.notebook.kernel) IPython.notebook.kernel.execute('jovian.utils.jupyter.get_notebook_name_saved = lambda: \"' + IPython.notebook.notebook_name + '\"')"
      ],
      "text/plain": [
       "<IPython.core.display.Javascript object>"
      ]
     },
     "metadata": {},
     "output_type": "display_data"
    },
    {
     "name": "stderr",
     "output_type": "stream",
     "text": [
      "\u001b[31m[jovian] Error: Failed to read the Jupyter notebook. Please re-run this cell to try again. If the issue persists, provide the \"filename\" argument to \"jovian.commit\" e.g. \"jovian.commit(filename='my-notebook.ipynb')\"\u001b[0m\n"
     ]
    }
   ],
   "source": [
    "jovian.commit(project=\"adventure-works-eda\")"
   ]
  },
  {
   "cell_type": "code",
   "execution_count": 41,
   "metadata": {},
   "outputs": [],
   "source": [
    "temp_data = pd.merge(raw_data_dict['Sales'], raw_data_dict['Product'], on='ProductKey', how='inner')\n",
    "df = pd.merge(temp_data, raw_data_dict['Customers'], on='CustomerKey', how='inner')\n"
   ]
  },
  {
   "cell_type": "code",
   "execution_count": 42,
   "metadata": {},
   "outputs": [
    {
     "name": "stdout",
     "output_type": "stream",
     "text": [
      "<class 'pandas.core.frame.DataFrame'>\n",
      "Int64Index: 58189 entries, 0 to 58188\n",
      "Data columns (total 41 columns):\n",
      " #   Column                Non-Null Count  Dtype         \n",
      "---  ------                --------------  -----         \n",
      " 0   ProductKey            58189 non-null  int64         \n",
      " 1   OrderDate             58189 non-null  datetime64[ns]\n",
      " 2   ShipDate              58189 non-null  datetime64[ns]\n",
      " 3   CustomerKey           58189 non-null  int64         \n",
      " 4   PromotionKey          58189 non-null  int64         \n",
      " 5   SalesTerritoryKey     58189 non-null  int64         \n",
      " 6   SalesOrderNumber      58189 non-null  object        \n",
      " 7   SalesOrderLineNumber  58189 non-null  int64         \n",
      " 8   OrderQuantity         58189 non-null  int64         \n",
      " 9   UnitPrice             58189 non-null  float64       \n",
      " 10  TotalProductCost      58189 non-null  float64       \n",
      " 11  SalesAmount           58189 non-null  float64       \n",
      " 12  TaxAmt                58189 non-null  float64       \n",
      " 13  ProductName           58189 non-null  object        \n",
      " 14  SubCategory           58189 non-null  object        \n",
      " 15  Category              58189 non-null  object        \n",
      " 16  StandardCost          58189 non-null  float64       \n",
      " 17  Color                 30747 non-null  object        \n",
      " 18  ListPrice             58189 non-null  float64       \n",
      " 19  DaysToManufacture     58189 non-null  int64         \n",
      " 20  ProductLine           58189 non-null  object        \n",
      " 21  ModelName             58189 non-null  object        \n",
      " 22  Photo                 58189 non-null  object        \n",
      " 23  ProductDescription    58189 non-null  object        \n",
      " 24  StartDate             58189 non-null  datetime64[ns]\n",
      " 25  FirstName             58189 non-null  object        \n",
      " 26  LastName              58189 non-null  object        \n",
      " 27  FullName              58189 non-null  object        \n",
      " 28  BirthDate             58189 non-null  datetime64[ns]\n",
      " 29  MaritalStatus         58189 non-null  object        \n",
      " 30  Gender                58189 non-null  object        \n",
      " 31  YearlyIncome          58189 non-null  int64         \n",
      " 32  TotalChildren         58189 non-null  int64         \n",
      " 33  NumberChildrenAtHome  58189 non-null  int64         \n",
      " 34  Education             58189 non-null  object        \n",
      " 35  Occupation            58189 non-null  object        \n",
      " 36  HouseOwnerFlag        58189 non-null  int64         \n",
      " 37  NumberCarsOwned       58189 non-null  int64         \n",
      " 38  AddressLine1          58189 non-null  object        \n",
      " 39  DateFirstPurchase     58189 non-null  datetime64[ns]\n",
      " 40  CommuteDistance       58189 non-null  object        \n",
      "dtypes: datetime64[ns](5), float64(6), int64(12), object(18)\n",
      "memory usage: 18.6+ MB\n"
     ]
    }
   ],
   "source": [
    "df.info()"
   ]
  },
  {
   "cell_type": "code",
   "execution_count": 44,
   "metadata": {},
   "outputs": [
    {
     "data": {
      "text/plain": [
       "ProductKey                  0\n",
       "OrderDate                   0\n",
       "ShipDate                    0\n",
       "CustomerKey                 0\n",
       "PromotionKey                0\n",
       "SalesTerritoryKey           0\n",
       "SalesOrderNumber            0\n",
       "SalesOrderLineNumber        0\n",
       "OrderQuantity               0\n",
       "UnitPrice                   0\n",
       "TotalProductCost            0\n",
       "SalesAmount                 0\n",
       "TaxAmt                      0\n",
       "ProductName                 0\n",
       "SubCategory                 0\n",
       "Category                    0\n",
       "StandardCost                0\n",
       "Color                   27442\n",
       "ListPrice                   0\n",
       "DaysToManufacture           0\n",
       "ProductLine                 0\n",
       "ModelName                   0\n",
       "Photo                       0\n",
       "ProductDescription          0\n",
       "StartDate                   0\n",
       "FirstName                   0\n",
       "LastName                    0\n",
       "FullName                    0\n",
       "BirthDate                   0\n",
       "MaritalStatus               0\n",
       "Gender                      0\n",
       "YearlyIncome                0\n",
       "TotalChildren               0\n",
       "NumberChildrenAtHome        0\n",
       "Education                   0\n",
       "Occupation                  0\n",
       "HouseOwnerFlag              0\n",
       "NumberCarsOwned             0\n",
       "AddressLine1                0\n",
       "DateFirstPurchase           0\n",
       "CommuteDistance             0\n",
       "dtype: int64"
      ]
     },
     "execution_count": 44,
     "metadata": {},
     "output_type": "execute_result"
    }
   ],
   "source": [
    "df.isnull().sum()"
   ]
  },
  {
   "cell_type": "code",
   "execution_count": 49,
   "metadata": {},
   "outputs": [
    {
     "data": {
      "text/plain": [
       "array(['Red', 'Black', nan, 'Silver', 'Blue', 'Yellow', 'Multi', 'White'],\n",
       "      dtype=object)"
      ]
     },
     "execution_count": 49,
     "metadata": {},
     "output_type": "execute_result"
    }
   ],
   "source": [
    "df['Color'].unique()"
   ]
  },
  {
   "cell_type": "code",
   "execution_count": 50,
   "metadata": {},
   "outputs": [
    {
     "data": {
      "text/plain": [
       "<AxesSubplot:>"
      ]
     },
     "execution_count": 50,
     "metadata": {},
     "output_type": "execute_result"
    },
    {
     "data": {
      "image/png": "[encoded data removed]",
      "text/plain": [
       "<Figure size 432x288 with 1 Axes>"
      ]
     },
     "metadata": {
      "needs_background": "light"
     },
     "output_type": "display_data"
    }
   ],
   "source": [
    "# Visualising bar plot to check most frequent category\n",
    "df['Color'].value_counts().plot.bar(rot=0)"
   ]
  },
  {
   "cell_type": "code",
   "execution_count": 53,
   "metadata": {},
   "outputs": [],
   "source": [
    "# imputing categorical data with the most frequent value\n",
    "df['Color'].fillna(df['Color'].value_counts().index[0], inplace=True)"
   ]
  },
  {
   "cell_type": "code",
   "execution_count": 54,
   "metadata": {},
   "outputs": [
    {
     "data": {
      "text/plain": [
       "0"
      ]
     },
     "execution_count": 54,
     "metadata": {},
     "output_type": "execute_result"
    }
   ],
   "source": [
    "\n",
    "df.isnull().sum().sum()"
   ]
  },
  {
   "cell_type": "code",
   "execution_count": 58,
   "metadata": {},
   "outputs": [
    {
     "data": {
      "text/html": [
       "<div>\n",
       "<style scoped>\n",
       "    .dataframe tbody tr th:only-of-type {\n",
       "        vertical-align: middle;\n",
       "    }\n",
       "\n",
       "    .dataframe tbody tr th {\n",
       "        vertical-align: top;\n",
       "    }\n",
       "\n",
       "    .dataframe thead th {\n",
       "        text-align: right;\n",
       "    }\n",
       "</style>\n",
       "<table border=\"1\" class=\"dataframe\">\n",
       "  <thead>\n",
       "    <tr style=\"text-align: right;\">\n",
       "      <th></th>\n",
       "      <th>ProductKey</th>\n",
       "      <th>OrderDate</th>\n",
       "      <th>ShipDate</th>\n",
       "      <th>CustomerKey</th>\n",
       "      <th>PromotionKey</th>\n",
       "      <th>SalesTerritoryKey</th>\n",
       "      <th>SalesOrderNumber</th>\n",
       "      <th>SalesOrderLineNumber</th>\n",
       "      <th>OrderQuantity</th>\n",
       "      <th>UnitPrice</th>\n",
       "      <th>...</th>\n",
       "      <th>YearlyIncome</th>\n",
       "      <th>TotalChildren</th>\n",
       "      <th>NumberChildrenAtHome</th>\n",
       "      <th>Education</th>\n",
       "      <th>Occupation</th>\n",
       "      <th>HouseOwnerFlag</th>\n",
       "      <th>NumberCarsOwned</th>\n",
       "      <th>AddressLine1</th>\n",
       "      <th>DateFirstPurchase</th>\n",
       "      <th>CommuteDistance</th>\n",
       "    </tr>\n",
       "  </thead>\n",
       "  <tbody>\n",
       "    <tr>\n",
       "      <th>0</th>\n",
       "      <td>310</td>\n",
       "      <td>2014-01-01</td>\n",
       "      <td>2014-01-08</td>\n",
       "      <td>21768</td>\n",
       "      <td>1</td>\n",
       "      <td>6</td>\n",
       "      <td>SO43697</td>\n",
       "      <td>1</td>\n",
       "      <td>2</td>\n",
       "      <td>1789.1350</td>\n",
       "      <td>...</td>\n",
       "      <td>70000</td>\n",
       "      <td>5</td>\n",
       "      <td>0</td>\n",
       "      <td>Bachelors</td>\n",
       "      <td>Management</td>\n",
       "      <td>1</td>\n",
       "      <td>3</td>\n",
       "      <td>601 Asilomar Dr.</td>\n",
       "      <td>2014-01-01</td>\n",
       "      <td>10+ Miles</td>\n",
       "    </tr>\n",
       "    <tr>\n",
       "      <th>1</th>\n",
       "      <td>600</td>\n",
       "      <td>2016-04-16</td>\n",
       "      <td>2016-04-23</td>\n",
       "      <td>21768</td>\n",
       "      <td>1</td>\n",
       "      <td>6</td>\n",
       "      <td>SO56212</td>\n",
       "      <td>1</td>\n",
       "      <td>1</td>\n",
       "      <td>539.9900</td>\n",
       "      <td>...</td>\n",
       "      <td>70000</td>\n",
       "      <td>5</td>\n",
       "      <td>0</td>\n",
       "      <td>Bachelors</td>\n",
       "      <td>Management</td>\n",
       "      <td>1</td>\n",
       "      <td>3</td>\n",
       "      <td>601 Asilomar Dr.</td>\n",
       "      <td>2014-01-01</td>\n",
       "      <td>10+ Miles</td>\n",
       "    </tr>\n",
       "    <tr>\n",
       "      <th>2</th>\n",
       "      <td>310</td>\n",
       "      <td>2014-01-02</td>\n",
       "      <td>2014-01-09</td>\n",
       "      <td>16624</td>\n",
       "      <td>1</td>\n",
       "      <td>9</td>\n",
       "      <td>SO43703</td>\n",
       "      <td>1</td>\n",
       "      <td>4</td>\n",
       "      <td>894.5675</td>\n",
       "      <td>...</td>\n",
       "      <td>90000</td>\n",
       "      <td>0</td>\n",
       "      <td>0</td>\n",
       "      <td>Bachelors</td>\n",
       "      <td>Professional</td>\n",
       "      <td>0</td>\n",
       "      <td>3</td>\n",
       "      <td>3541 Corte Poquito</td>\n",
       "      <td>2014-01-02</td>\n",
       "      <td>10+ Miles</td>\n",
       "    </tr>\n",
       "    <tr>\n",
       "      <th>3</th>\n",
       "      <td>537</td>\n",
       "      <td>2016-12-25</td>\n",
       "      <td>2017-01-02</td>\n",
       "      <td>16624</td>\n",
       "      <td>1</td>\n",
       "      <td>9</td>\n",
       "      <td>SO73763</td>\n",
       "      <td>3</td>\n",
       "      <td>1</td>\n",
       "      <td>35.0000</td>\n",
       "      <td>...</td>\n",
       "      <td>90000</td>\n",
       "      <td>0</td>\n",
       "      <td>0</td>\n",
       "      <td>Bachelors</td>\n",
       "      <td>Professional</td>\n",
       "      <td>0</td>\n",
       "      <td>3</td>\n",
       "      <td>3541 Corte Poquito</td>\n",
       "      <td>2014-01-02</td>\n",
       "      <td>10+ Miles</td>\n",
       "    </tr>\n",
       "    <tr>\n",
       "      <th>4</th>\n",
       "      <td>528</td>\n",
       "      <td>2016-12-25</td>\n",
       "      <td>2017-01-02</td>\n",
       "      <td>16624</td>\n",
       "      <td>1</td>\n",
       "      <td>9</td>\n",
       "      <td>SO73763</td>\n",
       "      <td>2</td>\n",
       "      <td>1</td>\n",
       "      <td>4.9900</td>\n",
       "      <td>...</td>\n",
       "      <td>90000</td>\n",
       "      <td>0</td>\n",
       "      <td>0</td>\n",
       "      <td>Bachelors</td>\n",
       "      <td>Professional</td>\n",
       "      <td>0</td>\n",
       "      <td>3</td>\n",
       "      <td>3541 Corte Poquito</td>\n",
       "      <td>2014-01-02</td>\n",
       "      <td>10+ Miles</td>\n",
       "    </tr>\n",
       "  </tbody>\n",
       "</table>\n",
       "<p>5 rows × 41 columns</p>\n",
       "</div>"
      ],
      "text/plain": [
       "   ProductKey  OrderDate   ShipDate  CustomerKey  PromotionKey  \\\n",
       "0         310 2014-01-01 2014-01-08        21768             1   \n",
       "1         600 2016-04-16 2016-04-23        21768             1   \n",
       "2         310 2014-01-02 2014-01-09        16624             1   \n",
       "3         537 2016-12-25 2017-01-02        16624             1   \n",
       "4         528 2016-12-25 2017-01-02        16624             1   \n",
       "\n",
       "   SalesTerritoryKey SalesOrderNumber  SalesOrderLineNumber  OrderQuantity  \\\n",
       "0                  6          SO43697                     1              2   \n",
       "1                  6          SO56212                     1              1   \n",
       "2                  9          SO43703                     1              4   \n",
       "3                  9          SO73763                     3              1   \n",
       "4                  9          SO73763                     2              1   \n",
       "\n",
       "   UnitPrice  ...  YearlyIncome  TotalChildren  NumberChildrenAtHome  \\\n",
       "0  1789.1350  ...         70000              5                     0   \n",
       "1   539.9900  ...         70000              5                     0   \n",
       "2   894.5675  ...         90000              0                     0   \n",
       "3    35.0000  ...         90000              0                     0   \n",
       "4     4.9900  ...         90000              0                     0   \n",
       "\n",
       "   Education    Occupation HouseOwnerFlag  NumberCarsOwned  \\\n",
       "0  Bachelors    Management              1                3   \n",
       "1  Bachelors    Management              1                3   \n",
       "2  Bachelors  Professional              0                3   \n",
       "3  Bachelors  Professional              0                3   \n",
       "4  Bachelors  Professional              0                3   \n",
       "\n",
       "         AddressLine1  DateFirstPurchase  CommuteDistance  \n",
       "0    601 Asilomar Dr.         2014-01-01        10+ Miles  \n",
       "1    601 Asilomar Dr.         2014-01-01        10+ Miles  \n",
       "2  3541 Corte Poquito         2014-01-02        10+ Miles  \n",
       "3  3541 Corte Poquito         2014-01-02        10+ Miles  \n",
       "4  3541 Corte Poquito         2014-01-02        10+ Miles  \n",
       "\n",
       "[5 rows x 41 columns]"
      ]
     },
     "execution_count": 58,
     "metadata": {},
     "output_type": "execute_result"
    }
   ],
   "source": [
    "df.head()"
   ]
  },
  {
   "cell_type": "code",
   "execution_count": 61,
   "metadata": {},
   "outputs": [
    {
     "data": {
      "text/plain": [
       "['ProductKey',\n",
       " 'OrderDate',\n",
       " 'ShipDate',\n",
       " 'CustomerKey',\n",
       " 'PromotionKey',\n",
       " 'SalesTerritoryKey',\n",
       " 'SalesOrderNumber',\n",
       " 'SalesOrderLineNumber',\n",
       " 'OrderQuantity',\n",
       " 'UnitPrice',\n",
       " 'TotalProductCost',\n",
       " 'SalesAmount',\n",
       " 'TaxAmt',\n",
       " 'ProductName',\n",
       " 'SubCategory',\n",
       " 'Category',\n",
       " 'StandardCost',\n",
       " 'Color',\n",
       " 'ListPrice',\n",
       " 'DaysToManufacture',\n",
       " 'ProductLine',\n",
       " 'ModelName',\n",
       " 'Photo',\n",
       " 'ProductDescription',\n",
       " 'StartDate',\n",
       " 'FirstName',\n",
       " 'LastName',\n",
       " 'FullName',\n",
       " 'BirthDate',\n",
       " 'MaritalStatus',\n",
       " 'Gender',\n",
       " 'YearlyIncome',\n",
       " 'TotalChildren',\n",
       " 'NumberChildrenAtHome',\n",
       " 'Education',\n",
       " 'Occupation',\n",
       " 'HouseOwnerFlag',\n",
       " 'NumberCarsOwned',\n",
       " 'AddressLine1',\n",
       " 'DateFirstPurchase',\n",
       " 'CommuteDistance']"
      ]
     },
     "execution_count": 61,
     "metadata": {},
     "output_type": "execute_result"
    }
   ],
   "source": [
    "df.columns.tolist()"
   ]
  },
  {
   "cell_type": "code",
   "execution_count": 62,
   "metadata": {},
   "outputs": [],
   "source": [
    "df['Total Amount'] = df['SalesAmount'] + df['TaxAmt']"
   ]
  },
  {
   "cell_type": "code",
   "execution_count": 63,
   "metadata": {},
   "outputs": [
    {
     "data": {
      "text/html": [
       "<div>\n",
       "<style scoped>\n",
       "    .dataframe tbody tr th:only-of-type {\n",
       "        vertical-align: middle;\n",
       "    }\n",
       "\n",
       "    .dataframe tbody tr th {\n",
       "        vertical-align: top;\n",
       "    }\n",
       "\n",
       "    .dataframe thead th {\n",
       "        text-align: right;\n",
       "    }\n",
       "</style>\n",
       "<table border=\"1\" class=\"dataframe\">\n",
       "  <thead>\n",
       "    <tr style=\"text-align: right;\">\n",
       "      <th></th>\n",
       "      <th>ProductKey</th>\n",
       "      <th>OrderDate</th>\n",
       "      <th>ShipDate</th>\n",
       "      <th>CustomerKey</th>\n",
       "      <th>PromotionKey</th>\n",
       "      <th>SalesTerritoryKey</th>\n",
       "      <th>SalesOrderNumber</th>\n",
       "      <th>SalesOrderLineNumber</th>\n",
       "      <th>OrderQuantity</th>\n",
       "      <th>UnitPrice</th>\n",
       "      <th>...</th>\n",
       "      <th>TotalChildren</th>\n",
       "      <th>NumberChildrenAtHome</th>\n",
       "      <th>Education</th>\n",
       "      <th>Occupation</th>\n",
       "      <th>HouseOwnerFlag</th>\n",
       "      <th>NumberCarsOwned</th>\n",
       "      <th>AddressLine1</th>\n",
       "      <th>DateFirstPurchase</th>\n",
       "      <th>CommuteDistance</th>\n",
       "      <th>Total Amount</th>\n",
       "    </tr>\n",
       "  </thead>\n",
       "  <tbody>\n",
       "    <tr>\n",
       "      <th>0</th>\n",
       "      <td>310</td>\n",
       "      <td>2014-01-01</td>\n",
       "      <td>2014-01-08</td>\n",
       "      <td>21768</td>\n",
       "      <td>1</td>\n",
       "      <td>6</td>\n",
       "      <td>SO43697</td>\n",
       "      <td>1</td>\n",
       "      <td>2</td>\n",
       "      <td>1789.1350</td>\n",
       "      <td>...</td>\n",
       "      <td>5</td>\n",
       "      <td>0</td>\n",
       "      <td>Bachelors</td>\n",
       "      <td>Management</td>\n",
       "      <td>1</td>\n",
       "      <td>3</td>\n",
       "      <td>601 Asilomar Dr.</td>\n",
       "      <td>2014-01-01</td>\n",
       "      <td>10+ Miles</td>\n",
       "      <td>3864.5316</td>\n",
       "    </tr>\n",
       "    <tr>\n",
       "      <th>1</th>\n",
       "      <td>600</td>\n",
       "      <td>2016-04-16</td>\n",
       "      <td>2016-04-23</td>\n",
       "      <td>21768</td>\n",
       "      <td>1</td>\n",
       "      <td>6</td>\n",
       "      <td>SO56212</td>\n",
       "      <td>1</td>\n",
       "      <td>1</td>\n",
       "      <td>539.9900</td>\n",
       "      <td>...</td>\n",
       "      <td>5</td>\n",
       "      <td>0</td>\n",
       "      <td>Bachelors</td>\n",
       "      <td>Management</td>\n",
       "      <td>1</td>\n",
       "      <td>3</td>\n",
       "      <td>601 Asilomar Dr.</td>\n",
       "      <td>2014-01-01</td>\n",
       "      <td>10+ Miles</td>\n",
       "      <td>583.1892</td>\n",
       "    </tr>\n",
       "    <tr>\n",
       "      <th>2</th>\n",
       "      <td>310</td>\n",
       "      <td>2014-01-02</td>\n",
       "      <td>2014-01-09</td>\n",
       "      <td>16624</td>\n",
       "      <td>1</td>\n",
       "      <td>9</td>\n",
       "      <td>SO43703</td>\n",
       "      <td>1</td>\n",
       "      <td>4</td>\n",
       "      <td>894.5675</td>\n",
       "      <td>...</td>\n",
       "      <td>0</td>\n",
       "      <td>0</td>\n",
       "      <td>Bachelors</td>\n",
       "      <td>Professional</td>\n",
       "      <td>0</td>\n",
       "      <td>3</td>\n",
       "      <td>3541 Corte Poquito</td>\n",
       "      <td>2014-01-02</td>\n",
       "      <td>10+ Miles</td>\n",
       "      <td>3864.5316</td>\n",
       "    </tr>\n",
       "    <tr>\n",
       "      <th>3</th>\n",
       "      <td>537</td>\n",
       "      <td>2016-12-25</td>\n",
       "      <td>2017-01-02</td>\n",
       "      <td>16624</td>\n",
       "      <td>1</td>\n",
       "      <td>9</td>\n",
       "      <td>SO73763</td>\n",
       "      <td>3</td>\n",
       "      <td>1</td>\n",
       "      <td>35.0000</td>\n",
       "      <td>...</td>\n",
       "      <td>0</td>\n",
       "      <td>0</td>\n",
       "      <td>Bachelors</td>\n",
       "      <td>Professional</td>\n",
       "      <td>0</td>\n",
       "      <td>3</td>\n",
       "      <td>3541 Corte Poquito</td>\n",
       "      <td>2014-01-02</td>\n",
       "      <td>10+ Miles</td>\n",
       "      <td>37.8000</td>\n",
       "    </tr>\n",
       "    <tr>\n",
       "      <th>4</th>\n",
       "      <td>528</td>\n",
       "      <td>2016-12-25</td>\n",
       "      <td>2017-01-02</td>\n",
       "      <td>16624</td>\n",
       "      <td>1</td>\n",
       "      <td>9</td>\n",
       "      <td>SO73763</td>\n",
       "      <td>2</td>\n",
       "      <td>1</td>\n",
       "      <td>4.9900</td>\n",
       "      <td>...</td>\n",
       "      <td>0</td>\n",
       "      <td>0</td>\n",
       "      <td>Bachelors</td>\n",
       "      <td>Professional</td>\n",
       "      <td>0</td>\n",
       "      <td>3</td>\n",
       "      <td>3541 Corte Poquito</td>\n",
       "      <td>2014-01-02</td>\n",
       "      <td>10+ Miles</td>\n",
       "      <td>5.3892</td>\n",
       "    </tr>\n",
       "  </tbody>\n",
       "</table>\n",
       "<p>5 rows × 42 columns</p>\n",
       "</div>"
      ],
      "text/plain": [
       "   ProductKey  OrderDate   ShipDate  CustomerKey  PromotionKey  \\\n",
       "0         310 2014-01-01 2014-01-08        21768             1   \n",
       "1         600 2016-04-16 2016-04-23        21768             1   \n",
       "2         310 2014-01-02 2014-01-09        16624             1   \n",
       "3         537 2016-12-25 2017-01-02        16624             1   \n",
       "4         528 2016-12-25 2017-01-02        16624             1   \n",
       "\n",
       "   SalesTerritoryKey SalesOrderNumber  SalesOrderLineNumber  OrderQuantity  \\\n",
       "0                  6          SO43697                     1              2   \n",
       "1                  6          SO56212                     1              1   \n",
       "2                  9          SO43703                     1              4   \n",
       "3                  9          SO73763                     3              1   \n",
       "4                  9          SO73763                     2              1   \n",
       "\n",
       "   UnitPrice  ...  TotalChildren  NumberChildrenAtHome  Education  \\\n",
       "0  1789.1350  ...              5                     0  Bachelors   \n",
       "1   539.9900  ...              5                     0  Bachelors   \n",
       "2   894.5675  ...              0                     0  Bachelors   \n",
       "3    35.0000  ...              0                     0  Bachelors   \n",
       "4     4.9900  ...              0                     0  Bachelors   \n",
       "\n",
       "     Occupation HouseOwnerFlag NumberCarsOwned        AddressLine1  \\\n",
       "0    Management              1               3    601 Asilomar Dr.   \n",
       "1    Management              1               3    601 Asilomar Dr.   \n",
       "2  Professional              0               3  3541 Corte Poquito   \n",
       "3  Professional              0               3  3541 Corte Poquito   \n",
       "4  Professional              0               3  3541 Corte Poquito   \n",
       "\n",
       "  DateFirstPurchase  CommuteDistance  Total Amount  \n",
       "0        2014-01-01        10+ Miles     3864.5316  \n",
       "1        2014-01-01        10+ Miles      583.1892  \n",
       "2        2014-01-02        10+ Miles     3864.5316  \n",
       "3        2014-01-02        10+ Miles       37.8000  \n",
       "4        2014-01-02        10+ Miles        5.3892  \n",
       "\n",
       "[5 rows x 42 columns]"
      ]
     },
     "execution_count": 63,
     "metadata": {},
     "output_type": "execute_result"
    }
   ],
   "source": [
    "df.head()"
   ]
  },
  {
   "cell_type": "code",
   "execution_count": null,
   "metadata": {},
   "outputs": [],
   "source": []
  }
 ],
 "metadata": {
  "kernelspec": {
   "display_name": "Python 3 (ipykernel)",
   "language": "python",
   "name": "python3"
  },
  "language_info": {
   "codemirror_mode": {
    "name": "ipython",
    "version": 3
   },
   "file_extension": ".py",
   "mimetype": "text/x-python",
   "name": "python",
   "nbconvert_exporter": "python",
   "pygments_lexer": "ipython3",
   "version": "3.9.12"
  }
 },
 "nbformat": 4,
 "nbformat_minor": 2
}
